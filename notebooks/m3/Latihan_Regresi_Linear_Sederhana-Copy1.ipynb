{
 "cells": [
  {
   "cell_type": "code",
   "execution_count": 36,
   "metadata": {
    "id": "UQj2C_688eQM"
   },
   "outputs": [],
   "source": [
    "import matplotlib.pyplot as plt\n",
    "import pandas as pd\n",
    "import pylab as pl\n",
    "import numpy as np"
   ]
  },
  {
   "cell_type": "code",
   "execution_count": 37,
   "metadata": {
    "id": "Tn13V7ME8yJL"
   },
   "outputs": [],
   "source": [
    "df = pd.read_csv(\"HARGA-RUMAH-JAKSEL.csv\")"
   ]
  },
  {
   "cell_type": "code",
   "execution_count": 38,
   "metadata": {
    "colab": {
     "base_uri": "https://localhost:8080/",
     "height": 479
    },
    "id": "kGcwebeX9Z2F",
    "outputId": "c613bd22-41a7-415f-9367-f37736e4f05c"
   },
   "outputs": [
    {
     "data": {
      "text/html": [
       "<div>\n",
       "<style scoped>\n",
       "    .dataframe tbody tr th:only-of-type {\n",
       "        vertical-align: middle;\n",
       "    }\n",
       "\n",
       "    .dataframe tbody tr th {\n",
       "        vertical-align: top;\n",
       "    }\n",
       "\n",
       "    .dataframe thead th {\n",
       "        text-align: right;\n",
       "    }\n",
       "</style>\n",
       "<table border=\"1\" class=\"dataframe\">\n",
       "  <thead>\n",
       "    <tr style=\"text-align: right;\">\n",
       "      <th></th>\n",
       "      <th>HARGA</th>\n",
       "      <th>LT</th>\n",
       "      <th>LB</th>\n",
       "      <th>JKT</th>\n",
       "      <th>JKM</th>\n",
       "      <th>GRS</th>\n",
       "      <th>KOTA</th>\n",
       "    </tr>\n",
       "  </thead>\n",
       "  <tbody>\n",
       "    <tr>\n",
       "      <th>0</th>\n",
       "      <td>28000000000</td>\n",
       "      <td>1100</td>\n",
       "      <td>700</td>\n",
       "      <td>5</td>\n",
       "      <td>6</td>\n",
       "      <td>ADA</td>\n",
       "      <td>JAKSEL</td>\n",
       "    </tr>\n",
       "    <tr>\n",
       "      <th>1</th>\n",
       "      <td>19000000000</td>\n",
       "      <td>824</td>\n",
       "      <td>800</td>\n",
       "      <td>4</td>\n",
       "      <td>4</td>\n",
       "      <td>ADA</td>\n",
       "      <td>JAKSEL</td>\n",
       "    </tr>\n",
       "    <tr>\n",
       "      <th>2</th>\n",
       "      <td>4700000000</td>\n",
       "      <td>500</td>\n",
       "      <td>400</td>\n",
       "      <td>4</td>\n",
       "      <td>3</td>\n",
       "      <td>ADA</td>\n",
       "      <td>JAKSEL</td>\n",
       "    </tr>\n",
       "    <tr>\n",
       "      <th>3</th>\n",
       "      <td>4900000000</td>\n",
       "      <td>251</td>\n",
       "      <td>300</td>\n",
       "      <td>5</td>\n",
       "      <td>4</td>\n",
       "      <td>ADA</td>\n",
       "      <td>JAKSEL</td>\n",
       "    </tr>\n",
       "    <tr>\n",
       "      <th>4</th>\n",
       "      <td>28000000000</td>\n",
       "      <td>1340</td>\n",
       "      <td>575</td>\n",
       "      <td>4</td>\n",
       "      <td>5</td>\n",
       "      <td>ADA</td>\n",
       "      <td>JAKSEL</td>\n",
       "    </tr>\n",
       "    <tr>\n",
       "      <th>5</th>\n",
       "      <td>10000000000</td>\n",
       "      <td>460</td>\n",
       "      <td>300</td>\n",
       "      <td>4</td>\n",
       "      <td>4</td>\n",
       "      <td>ADA</td>\n",
       "      <td>JAKSEL</td>\n",
       "    </tr>\n",
       "    <tr>\n",
       "      <th>6</th>\n",
       "      <td>7600000000</td>\n",
       "      <td>278</td>\n",
       "      <td>350</td>\n",
       "      <td>4</td>\n",
       "      <td>4</td>\n",
       "      <td>ADA</td>\n",
       "      <td>JAKSEL</td>\n",
       "    </tr>\n",
       "    <tr>\n",
       "      <th>7</th>\n",
       "      <td>5250000000</td>\n",
       "      <td>511</td>\n",
       "      <td>300</td>\n",
       "      <td>3</td>\n",
       "      <td>2</td>\n",
       "      <td>ADA</td>\n",
       "      <td>JAKSEL</td>\n",
       "    </tr>\n",
       "    <tr>\n",
       "      <th>8</th>\n",
       "      <td>670000000</td>\n",
       "      <td>70</td>\n",
       "      <td>69</td>\n",
       "      <td>3</td>\n",
       "      <td>2</td>\n",
       "      <td>TIDAK ADA</td>\n",
       "      <td>JAKSEL</td>\n",
       "    </tr>\n",
       "    <tr>\n",
       "      <th>9</th>\n",
       "      <td>480000000</td>\n",
       "      <td>66</td>\n",
       "      <td>42</td>\n",
       "      <td>2</td>\n",
       "      <td>1</td>\n",
       "      <td>TIDAK ADA</td>\n",
       "      <td>JAKSEL</td>\n",
       "    </tr>\n",
       "  </tbody>\n",
       "</table>\n",
       "</div>"
      ],
      "text/plain": [
       "         HARGA    LT   LB  JKT  JKM        GRS    KOTA\n",
       "0  28000000000  1100  700    5    6        ADA  JAKSEL\n",
       "1  19000000000   824  800    4    4        ADA  JAKSEL\n",
       "2   4700000000   500  400    4    3        ADA  JAKSEL\n",
       "3   4900000000   251  300    5    4        ADA  JAKSEL\n",
       "4  28000000000  1340  575    4    5        ADA  JAKSEL\n",
       "5  10000000000   460  300    4    4        ADA  JAKSEL\n",
       "6   7600000000   278  350    4    4        ADA  JAKSEL\n",
       "7   5250000000   511  300    3    2        ADA  JAKSEL\n",
       "8    670000000    70   69    3    2  TIDAK ADA  JAKSEL\n",
       "9    480000000    66   42    2    1  TIDAK ADA  JAKSEL"
      ]
     },
     "execution_count": 38,
     "metadata": {},
     "output_type": "execute_result"
    }
   ],
   "source": [
    "df.head(10)"
   ]
  },
  {
   "cell_type": "code",
   "execution_count": 39,
   "metadata": {
    "colab": {
     "base_uri": "https://localhost:8080/",
     "height": 364
    },
    "id": "Eg7pZIOz9byJ",
    "outputId": "27b8cfe9-bfdd-4dfb-a5b9-fec2c77ce2d1"
   },
   "outputs": [
    {
     "data": {
      "text/html": [
       "<div>\n",
       "<style scoped>\n",
       "    .dataframe tbody tr th:only-of-type {\n",
       "        vertical-align: middle;\n",
       "    }\n",
       "\n",
       "    .dataframe tbody tr th {\n",
       "        vertical-align: top;\n",
       "    }\n",
       "\n",
       "    .dataframe thead th {\n",
       "        text-align: right;\n",
       "    }\n",
       "</style>\n",
       "<table border=\"1\" class=\"dataframe\">\n",
       "  <thead>\n",
       "    <tr style=\"text-align: right;\">\n",
       "      <th></th>\n",
       "      <th>HARGA</th>\n",
       "      <th>LT</th>\n",
       "      <th>LB</th>\n",
       "      <th>JKT</th>\n",
       "      <th>JKM</th>\n",
       "    </tr>\n",
       "  </thead>\n",
       "  <tbody>\n",
       "    <tr>\n",
       "      <th>count</th>\n",
       "      <td>1.001000e+03</td>\n",
       "      <td>1001.000000</td>\n",
       "      <td>1001.000000</td>\n",
       "      <td>1001.000000</td>\n",
       "      <td>1001.000000</td>\n",
       "    </tr>\n",
       "    <tr>\n",
       "      <th>mean</th>\n",
       "      <td>1.747472e+10</td>\n",
       "      <td>530.504496</td>\n",
       "      <td>487.275724</td>\n",
       "      <td>4.457542</td>\n",
       "      <td>3.940060</td>\n",
       "    </tr>\n",
       "    <tr>\n",
       "      <th>std</th>\n",
       "      <td>2.079548e+10</td>\n",
       "      <td>531.069773</td>\n",
       "      <td>452.872262</td>\n",
       "      <td>2.004606</td>\n",
       "      <td>1.903261</td>\n",
       "    </tr>\n",
       "    <tr>\n",
       "      <th>min</th>\n",
       "      <td>4.300000e+08</td>\n",
       "      <td>22.000000</td>\n",
       "      <td>38.000000</td>\n",
       "      <td>1.000000</td>\n",
       "      <td>1.000000</td>\n",
       "    </tr>\n",
       "    <tr>\n",
       "      <th>25%</th>\n",
       "      <td>6.750000e+09</td>\n",
       "      <td>220.000000</td>\n",
       "      <td>300.000000</td>\n",
       "      <td>4.000000</td>\n",
       "      <td>3.000000</td>\n",
       "    </tr>\n",
       "    <tr>\n",
       "      <th>50%</th>\n",
       "      <td>1.350000e+10</td>\n",
       "      <td>400.000000</td>\n",
       "      <td>411.000000</td>\n",
       "      <td>4.000000</td>\n",
       "      <td>4.000000</td>\n",
       "    </tr>\n",
       "    <tr>\n",
       "      <th>75%</th>\n",
       "      <td>2.000000e+10</td>\n",
       "      <td>677.000000</td>\n",
       "      <td>600.000000</td>\n",
       "      <td>5.000000</td>\n",
       "      <td>4.000000</td>\n",
       "    </tr>\n",
       "    <tr>\n",
       "      <th>max</th>\n",
       "      <td>2.500000e+11</td>\n",
       "      <td>6790.000000</td>\n",
       "      <td>10000.000000</td>\n",
       "      <td>27.000000</td>\n",
       "      <td>27.000000</td>\n",
       "    </tr>\n",
       "  </tbody>\n",
       "</table>\n",
       "</div>"
      ],
      "text/plain": [
       "              HARGA           LT            LB          JKT          JKM\n",
       "count  1.001000e+03  1001.000000   1001.000000  1001.000000  1001.000000\n",
       "mean   1.747472e+10   530.504496    487.275724     4.457542     3.940060\n",
       "std    2.079548e+10   531.069773    452.872262     2.004606     1.903261\n",
       "min    4.300000e+08    22.000000     38.000000     1.000000     1.000000\n",
       "25%    6.750000e+09   220.000000    300.000000     4.000000     3.000000\n",
       "50%    1.350000e+10   400.000000    411.000000     4.000000     4.000000\n",
       "75%    2.000000e+10   677.000000    600.000000     5.000000     4.000000\n",
       "max    2.500000e+11  6790.000000  10000.000000    27.000000    27.000000"
      ]
     },
     "execution_count": 39,
     "metadata": {},
     "output_type": "execute_result"
    }
   ],
   "source": [
    "df.describe()"
   ]
  },
  {
   "cell_type": "code",
   "execution_count": 40,
   "metadata": {
    "id": "chW_APC4-jZL"
   },
   "outputs": [],
   "source": [
    "cdf = df[['HARGA','LT']]"
   ]
  },
  {
   "cell_type": "code",
   "execution_count": 41,
   "metadata": {
    "colab": {
     "base_uri": "https://localhost:8080/",
     "height": 206
    },
    "id": "IDJ9OByb_UAt",
    "outputId": "ac569e22-ec96-4fdd-b12d-fe4ebd153cbc"
   },
   "outputs": [
    {
     "data": {
      "text/html": [
       "<div>\n",
       "<style scoped>\n",
       "    .dataframe tbody tr th:only-of-type {\n",
       "        vertical-align: middle;\n",
       "    }\n",
       "\n",
       "    .dataframe tbody tr th {\n",
       "        vertical-align: top;\n",
       "    }\n",
       "\n",
       "    .dataframe thead th {\n",
       "        text-align: right;\n",
       "    }\n",
       "</style>\n",
       "<table border=\"1\" class=\"dataframe\">\n",
       "  <thead>\n",
       "    <tr style=\"text-align: right;\">\n",
       "      <th></th>\n",
       "      <th>HARGA</th>\n",
       "      <th>LT</th>\n",
       "    </tr>\n",
       "  </thead>\n",
       "  <tbody>\n",
       "    <tr>\n",
       "      <th>0</th>\n",
       "      <td>28000000000</td>\n",
       "      <td>1100</td>\n",
       "    </tr>\n",
       "    <tr>\n",
       "      <th>1</th>\n",
       "      <td>19000000000</td>\n",
       "      <td>824</td>\n",
       "    </tr>\n",
       "    <tr>\n",
       "      <th>2</th>\n",
       "      <td>4700000000</td>\n",
       "      <td>500</td>\n",
       "    </tr>\n",
       "    <tr>\n",
       "      <th>3</th>\n",
       "      <td>4900000000</td>\n",
       "      <td>251</td>\n",
       "    </tr>\n",
       "    <tr>\n",
       "      <th>4</th>\n",
       "      <td>28000000000</td>\n",
       "      <td>1340</td>\n",
       "    </tr>\n",
       "  </tbody>\n",
       "</table>\n",
       "</div>"
      ],
      "text/plain": [
       "         HARGA    LT\n",
       "0  28000000000  1100\n",
       "1  19000000000   824\n",
       "2   4700000000   500\n",
       "3   4900000000   251\n",
       "4  28000000000  1340"
      ]
     },
     "execution_count": 41,
     "metadata": {},
     "output_type": "execute_result"
    }
   ],
   "source": [
    "cdf.head()"
   ]
  },
  {
   "cell_type": "code",
   "execution_count": 42,
   "metadata": {
    "colab": {
     "base_uri": "https://localhost:8080/",
     "height": 281
    },
    "id": "O_nIlCW3_XB8",
    "outputId": "f637dc95-bc8c-4040-f791-91242410344a"
   },
   "outputs": [
    {
     "data": {
      "image/png": "[encoded data removed]",
      "text/plain": [
       "<Figure size 640x480 with 2 Axes>"
      ]
     },
     "metadata": {},
     "output_type": "display_data"
    }
   ],
   "source": [
    "cdf.hist()\n",
    "plt.show()"
   ]
  },
  {
   "cell_type": "code",
   "execution_count": 43,
   "metadata": {
    "colab": {
     "base_uri": "https://localhost:8080/",
     "height": 301
    },
    "id": "r8Y85zFH__ib",
    "outputId": "4adf395f-149a-4226-ddad-3f78001f9af8"
   },
   "outputs": [
    {
     "data": {
      "text/plain": [
       "<function matplotlib.pyplot.show(close=None, block=None)>"
      ]
     },
     "execution_count": 43,
     "metadata": {},
     "output_type": "execute_result"
    },
    {
     "data": {
      "image/png": "[encoded data removed]",
      "text/plain": [
       "<Figure size 640x480 with 1 Axes>"
      ]
     },
     "metadata": {},
     "output_type": "display_data"
    }
   ],
   "source": [
    "plt.scatter(cdf.HARGA, cdf.LT, color='blue')\n",
    "plt.xlabel('HARGA')\n",
    "plt.ylabel('LT')\n",
    "plt.show"
   ]
  },
  {
   "cell_type": "code",
   "execution_count": 44,
   "metadata": {},
   "outputs": [],
   "source": [
    "msk = np.random.rand(len(df)) < 0.8\n",
    "train = cdf[msk]\n",
    "test = cdf[~msk]"
   ]
  },
  {
   "cell_type": "code",
   "execution_count": 45,
   "metadata": {},
   "outputs": [
    {
     "data": {
      "text/plain": [
       "<function matplotlib.pyplot.show(close=None, block=None)>"
      ]
     },
     "execution_count": 45,
     "metadata": {},
     "output_type": "execute_result"
    },
    {
     "data": {
      "image/png": "[encoded data removed]",
      "text/plain": [
       "<Figure size 640x480 with 1 Axes>"
      ]
     },
     "metadata": {},
     "output_type": "display_data"
    }
   ],
   "source": [
    "plt.scatter(train.HARGA, train.LT, color='yellow')\n",
    "plt.xlabel('TRAIN HARGA')\n",
    "plt.ylabel('TRAIN LT')\n",
    "plt.show"
   ]
  },
  {
   "cell_type": "code",
   "execution_count": 46,
   "metadata": {},
   "outputs": [
    {
     "name": "stdout",
     "output_type": "stream",
     "text": [
      "Koefisien :  [[1.9753382e-08]]\n",
      "Intercept :  [188.43427977]\n"
     ]
    }
   ],
   "source": [
    "from sklearn import linear_model\n",
    "regresi = linear_model.LinearRegression()\n",
    "train_x = np.asanyarray(train[['HARGA']])\n",
    "train_y = np.asanyarray(train[['LT']])\n",
    "regresi.fit(train_x, train_y)\n",
    "\n",
    "print('Koefisien : ', regresi.coef_)\n",
    "print('Intercept : ', regresi.intercept_)"
   ]
  },
  {
   "cell_type": "code",
   "execution_count": 47,
   "metadata": {},
   "outputs": [
    {
     "data": {
      "text/plain": [
       "<function matplotlib.pyplot.show(close=None, block=None)>"
      ]
     },
     "execution_count": 47,
     "metadata": {},
     "output_type": "execute_result"
    },
    {
     "data": {
      "image/png": "[encoded data removed]",
      "text/plain": [
       "<Figure size 640x480 with 1 Axes>"
      ]
     },
     "metadata": {},
     "output_type": "display_data"
    }
   ],
   "source": [
    "plt.scatter(train.HARGA, train.LT, color='green')\n",
    "plt.plot(train_x,regresi.coef_[0][0]*train_x + regresi.intercept_[0], '-r')\n",
    "plt.xlabel('TRAIN HARGA')\n",
    "plt.ylabel('TRAIN LT')\n",
    "plt.show"
   ]
  },
  {
   "cell_type": "code",
   "execution_count": 48,
   "metadata": {},
   "outputs": [],
   "source": [
    "test_x = np.asanyarray(test[['HARGA']])\n",
    "test_y = np.asanyarray(test[['LT']])"
   ]
  },
  {
   "cell_type": "code",
   "execution_count": 49,
   "metadata": {},
   "outputs": [],
   "source": [
    "test_y = regresi.predict(test_x)"
   ]
  },
  {
   "cell_type": "code",
   "execution_count": 50,
   "metadata": {},
   "outputs": [
    {
     "data": {
      "text/plain": [
       "array([[ 197.91590312],\n",
       "       [ 356.33802669],\n",
       "       [ 376.09140868],\n",
       "       [ 303.00389531],\n",
       "       [ 879.80264944],\n",
       "       [ 464.98162764],\n",
       "       [ 316.83126271],\n",
       "       [ 958.8161774 ],\n",
       "       [ 287.20118972],\n",
       "       [ 346.46133569],\n",
       "       [ 534.1184646 ],\n",
       "       [ 534.1184646 ],\n",
       "       [ 642.76206555],\n",
       "       [ 543.9951556 ],\n",
       "       [ 385.96809967],\n",
       "       [ 682.26882953],\n",
       "       [ 899.55603143],\n",
       "       [ 514.36508261],\n",
       "       [ 498.56237702],\n",
       "       [ 346.46133569],\n",
       "       [ 257.57111674],\n",
       "       [ 435.35155465],\n",
       "       [ 346.46133569],\n",
       "       [ 297.07788072],\n",
       "       [ 603.25530157],\n",
       "       [ 499.55004612],\n",
       "       [ 569.67455219],\n",
       "       [ 642.76206555],\n",
       "       [1274.87028925],\n",
       "       [ 346.46133569],\n",
       "       [ 484.73500963],\n",
       "       [ 603.25530157],\n",
       "       [ 346.46133569],\n",
       "       [ 484.73500963],\n",
       "       [ 260.53412403],\n",
       "       [ 543.9951556 ],\n",
       "       [ 277.32449873],\n",
       "       [ 484.73500963],\n",
       "       [ 561.77319939],\n",
       "       [ 621.03334536],\n",
       "       [ 534.1184646 ],\n",
       "       [ 267.44780773],\n",
       "       [ 499.55004612],\n",
       "       [ 356.33802669],\n",
       "       [ 563.74853759],\n",
       "       [ 583.50191958],\n",
       "       [ 463.00628944],\n",
       "       [ 820.54250347],\n",
       "       [ 385.96809967],\n",
       "       [ 342.51065929],\n",
       "       [ 322.7572773 ],\n",
       "       [ 563.74853759],\n",
       "       [ 524.24177361],\n",
       "       [ 504.48839162],\n",
       "       [ 524.24177361],\n",
       "       [ 356.33802669],\n",
       "       [ 455.10493664],\n",
       "       [ 385.96809967],\n",
       "       [ 731.65228451],\n",
       "       [ 603.25530157],\n",
       "       [ 504.48839162],\n",
       "       [ 243.54621552],\n",
       "       [ 356.33802669],\n",
       "       [ 295.10254252],\n",
       "       [ 484.73500963],\n",
       "       [ 356.33802669],\n",
       "       [ 395.84479067],\n",
       "       [ 840.29588546],\n",
       "       [ 978.56955939],\n",
       "       [ 326.7079537 ],\n",
       "       [ 415.59817266],\n",
       "       [ 344.48599749],\n",
       "       [ 356.33802669],\n",
       "       [ 306.95457171],\n",
       "       [ 682.26882953],\n",
       "       [ 306.95457171],\n",
       "       [ 731.65228451],\n",
       "       [ 306.95457171],\n",
       "       [ 336.5846447 ],\n",
       "       [ 344.48599749],\n",
       "       [ 623.00868356],\n",
       "       [ 623.00868356],\n",
       "       [ 285.22585152],\n",
       "       [ 484.73500963],\n",
       "       [ 376.09140868],\n",
       "       [ 642.76206555],\n",
       "       [ 334.01670504],\n",
       "       [ 840.29588546],\n",
       "       [ 271.39848413],\n",
       "       [1037.82970536],\n",
       "       [ 634.86071275],\n",
       "       [ 583.50191958],\n",
       "       [ 484.73500963],\n",
       "       [ 682.26882953],\n",
       "       [ 563.74853759],\n",
       "       [ 879.80264944],\n",
       "       [ 543.9951556 ],\n",
       "       [ 324.7326155 ],\n",
       "       [ 472.88298043],\n",
       "       [1373.6371992 ],\n",
       "       [ 563.74853759],\n",
       "       [ 563.74853759],\n",
       "       [ 225.57063791],\n",
       "       [ 289.17652792],\n",
       "       [1156.3499973 ],\n",
       "       [ 425.47486365],\n",
       "       [ 376.09140868],\n",
       "       [ 524.24177361],\n",
       "       [ 464.98162764],\n",
       "       [ 320.7819391 ],\n",
       "       [ 484.73500963],\n",
       "       [ 330.46109628],\n",
       "       [ 534.1184646 ],\n",
       "       [ 385.96809967],\n",
       "       [ 277.32449873],\n",
       "       [ 395.84479067],\n",
       "       [ 524.24177361],\n",
       "       [ 377.07907778],\n",
       "       [ 563.74853759],\n",
       "       [ 326.7079537 ],\n",
       "       [ 613.13199256],\n",
       "       [ 603.25530157],\n",
       "       [ 358.31336489],\n",
       "       [ 326.7079537 ],\n",
       "       [ 297.07788072],\n",
       "       [ 553.87184659],\n",
       "       [ 613.13199256],\n",
       "       [ 484.73500963],\n",
       "       [ 360.28870309],\n",
       "       [ 468.93230403],\n",
       "       [ 324.7326155 ],\n",
       "       [ 277.32449873],\n",
       "       [ 524.24177361],\n",
       "       [ 304.97923351],\n",
       "       [ 316.83126271],\n",
       "       [ 292.13953522],\n",
       "       [ 455.10493664],\n",
       "       [ 578.56357408],\n",
       "       [ 781.03573948],\n",
       "       [ 583.50191958],\n",
       "       [ 958.8161774 ],\n",
       "       [ 563.74853759],\n",
       "       [ 534.1184646 ],\n",
       "       [ 958.8161774 ],\n",
       "       [ 316.83126271],\n",
       "       [ 484.73500963],\n",
       "       [ 623.00868356],\n",
       "       [ 291.15186612],\n",
       "       [ 702.02221152],\n",
       "       [ 623.00868356],\n",
       "       [ 280.28750602],\n",
       "       [ 322.7572773 ],\n",
       "       [ 304.97923351],\n",
       "       [ 899.55603143],\n",
       "       [ 287.20118972],\n",
       "       [ 407.69681986],\n",
       "       [ 481.77200233],\n",
       "       [ 295.10254252],\n",
       "       [ 464.98162764],\n",
       "       [ 257.57111674],\n",
       "       [ 231.89172015],\n",
       "       [ 212.13833816],\n",
       "       [ 297.07788072],\n",
       "       [ 889.67934043],\n",
       "       [ 286.60858826],\n",
       "       [ 202.26164716],\n",
       "       [ 420.53651816],\n",
       "       [ 212.13833816],\n",
       "       [ 271.39848413],\n",
       "       [ 212.13833816],\n",
       "       [ 376.09140868],\n",
       "       [3507.00245418],\n",
       "       [ 781.03573948],\n",
       "       [1966.23865892],\n",
       "       [ 642.76206555],\n",
       "       [ 243.74374934],\n",
       "       [ 405.72148166],\n",
       "       [1867.47174896],\n",
       "       [2361.30629873],\n",
       "       [1176.10337929],\n",
       "       [ 246.70675664],\n",
       "       [ 482.75967143],\n",
       "       [ 474.85831863],\n",
       "       [1669.93792906],\n",
       "       [ 356.33802669],\n",
       "       [ 435.35155465],\n",
       "       [ 781.03573948],\n",
       "       [ 779.06040129],\n",
       "       [ 283.25051332],\n",
       "       [ 332.6339683 ],\n",
       "       [ 939.06279541],\n",
       "       [ 603.25530157],\n",
       "       [1077.33646934],\n",
       "       [ 340.5353211 ],\n",
       "       [ 321.7696082 ],\n",
       "       [ 283.25051332],\n",
       "       [ 494.61170062],\n",
       "       [ 366.21471768],\n",
       "       [ 243.74374934],\n",
       "       [ 741.5289755 ],\n",
       "       [ 316.83126271],\n",
       "       [ 395.84479067],\n",
       "       [ 781.03573948],\n",
       "       [1018.07632337],\n",
       "       [ 223.99036735],\n",
       "       [ 336.5846447 ],\n",
       "       [ 324.7326155 ],\n",
       "       [ 484.73500963],\n",
       "       [ 682.26882953],\n",
       "       [1867.47174896],\n",
       "       [ 603.25530157],\n",
       "       [ 761.28235749]])"
      ]
     },
     "execution_count": 50,
     "metadata": {},
     "output_type": "execute_result"
    }
   ],
   "source": [
    "test_y"
   ]
  },
  {
   "cell_type": "code",
   "execution_count": 53,
   "metadata": {},
   "outputs": [
    {
     "data": {
      "text/plain": [
       "array([[188.43429429]])"
      ]
     },
     "execution_count": 53,
     "metadata": {},
     "output_type": "execute_result"
    }
   ],
   "source": [
    "prediksi_y = regresi.predict([[735]])\n",
    "prediksi_y"
   ]
  },
  {
   "cell_type": "code",
   "execution_count": 52,
   "metadata": {},
   "outputs": [
    {
     "name": "stdout",
     "output_type": "stream",
     "text": [
      "Nilai Mean Absolute Error :  352.48883770591715\n",
      "Nilai Akurasi :  -252.48883770591715\n"
     ]
    }
   ],
   "source": [
    "MAE = np.mean(np.absolute(prediksi_y - test_y))\n",
    "print(\"Nilai Mean Absolute Error : \", MAE)\n",
    "akurasi = 100 - MAE\n",
    "print(\"Nilai Akurasi : \", akurasi)"
   ]
  },
  {
   "cell_type": "code",
   "execution_count": null,
   "metadata": {},
   "outputs": [],
   "source": []
  }
 ],
 "metadata": {
  "colab": {
   "provenance": []
  },
  "kernelspec": {
   "display_name": "Python 3 (ipykernel)",
   "language": "python",
   "name": "python3"
  },
  "language_info": {
   "codemirror_mode": {
    "name": "ipython",
    "version": 3
   },
   "file_extension": ".py",
   "mimetype": "text/x-python",
   "name": "python",
   "nbconvert_exporter": "python",
   "pygments_lexer": "ipython3",
   "version": "3.9.13"
  }
 },
 "nbformat": 4,
 "nbformat_minor": 1
}
